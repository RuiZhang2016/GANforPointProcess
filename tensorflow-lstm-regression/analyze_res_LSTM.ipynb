{
 "cells": [
  {
   "cell_type": "code",
   "execution_count": 1,
   "metadata": {
    "collapsed": true
   },
   "outputs": [],
   "source": [
    "# Read RData\n",
    "from __future__ import unicode_literals\n",
    "from __future__ import absolute_import\n",
    "from __future__ import print_function\n",
    "from __future__ import division\n",
    "\n",
    "import json\n",
    "from os import listdir, getcwd\n",
    "from os.path import isfile, join\n",
    "import rpy2.robjects as ro\n",
    "from rpy2.robjects import numpy2ri\n",
    "import numpy as np\n",
    "import re\n",
    "\n",
    "# Read all files in a directory\n",
    "mypath = getcwd()+\"/data/tweet_youtube\"\n",
    "onlyfiles = [ join(mypath, f) for f in listdir(mypath) if isfile(join(mypath, f))]\n",
    "tweets_time = {}\n",
    "for f in onlyfiles:\n",
    "    ro.r['load'](f,ro.globalenv)\n",
    "\n",
    "shares = ro.globalenv[str('data')].rx2(\"numShare\")\n",
    "views = ro.globalenv[str('data')].rx2(\"dailyViewcount\")"
   ]
  },
  {
   "cell_type": "code",
   "execution_count": 13,
   "metadata": {
    "collapsed": false
   },
   "outputs": [],
   "source": [
    "def build_index2popularity_scale(index2views):\n",
    "    sorted_index2views = sorted(index2views, key=lambda tup: tup[1]) \n",
    "    split_index2views = np.array_split(sorted_index2views,40)\n",
    "    # Build a hashmap : the index of a video -> popularity_scale\n",
    "    index2ps = {}\n",
    "    for scale in range(40):\n",
    "        for element in split_index2views[scale]:\n",
    "            index2ps[element[0]] = scale\n",
    "    \n",
    "    return index2ps\n",
    "\n",
    "f = open(\"results3.txt\",\"r\")\n",
    "lines = f.readlines()\n",
    "lines = [ l.strip() for l in lines]\n",
    "lines = [ re.split(\"[\\(,\\) ]+\", l)[1:3] for l in lines]\n",
    "pred_index2p = [ (int(l[0]), float(l[1])) for l in lines]\n",
    "\n",
    "viewcounts_120 = [(ele[0], sum(views[int(ele[0])][:120])) for ele in pred_index2p if ele[0]<7300]\n",
    "\n",
    "pred_index2ps = build_index2popularity_scale(pred_index2p)\n",
    "real_index2ps = build_index2popularity_scale(viewcounts_120)"
   ]
  },
  {
   "cell_type": "code",
   "execution_count": 14,
   "metadata": {
    "collapsed": false
   },
   "outputs": [
    {
     "name": "stdout",
     "output_type": "stream",
     "text": [
      "0.0200383121562\n"
     ]
    }
   ],
   "source": [
    "L = len(real_index2ps)\n",
    "sum_ps_error = 0\n",
    "for index in real_index2ps:\n",
    "    ps1 = real_index2ps[index]\n",
    "    ps2 = pred_index2ps[index]\n",
    "    sum_ps_error = sum_ps_error+abs(ps1-ps2)\n",
    "\n",
    "mean_abs_percentile_error = sum_ps_error/L/39\n",
    "print(mean_abs_percentile_error)"
   ]
  },
  {
   "cell_type": "code",
   "execution_count": 15,
   "metadata": {
    "collapsed": false
   },
   "outputs": [],
   "source": [
    "indexes = [ ele[0]  for ele in pred_index2p]\n",
    "s = set()\n",
    "for index in indexes:\n",
    "    if indexes.count(index)>1:\n",
    "        s.add(index)"
   ]
  },
  {
   "cell_type": "code",
   "execution_count": 12,
   "metadata": {
    "collapsed": false
   },
   "outputs": [
    {
     "name": "stdout",
     "output_type": "stream",
     "text": [
      "set([999, 1465, 1466, 1467, 1468, 1469, 1470])\n"
     ]
    }
   ],
   "source": [
    "print(s)"
   ]
  },
  {
   "cell_type": "code",
   "execution_count": null,
   "metadata": {
    "collapsed": true
   },
   "outputs": [],
   "source": []
  }
 ],
 "metadata": {
  "anaconda-cloud": {},
  "kernelspec": {
   "display_name": "Python [conda root]",
   "language": "python",
   "name": "conda-root-py"
  },
  "language_info": {
   "codemirror_mode": {
    "name": "ipython",
    "version": 2
   },
   "file_extension": ".py",
   "mimetype": "text/x-python",
   "name": "python",
   "nbconvert_exporter": "python",
   "pygments_lexer": "ipython2",
   "version": "2.7.12"
  }
 },
 "nbformat": 4,
 "nbformat_minor": 1
}
