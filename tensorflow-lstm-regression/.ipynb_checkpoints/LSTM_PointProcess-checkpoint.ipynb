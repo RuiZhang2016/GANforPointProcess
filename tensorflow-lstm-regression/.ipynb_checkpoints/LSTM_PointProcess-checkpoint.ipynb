{
 "cells": [
  {
   "cell_type": "code",
   "execution_count": 1,
   "metadata": {
    "collapsed": false
   },
   "outputs": [],
   "source": [
    "# Read RData\n",
    "from __future__ import unicode_literals\n",
    "from __future__ import absolute_import\n",
    "from __future__ import print_function\n",
    "from __future__ import division\n",
    "\n",
    "import json\n",
    "from os import listdir, getcwd\n",
    "from os.path import isfile, join\n",
    "import rpy2.robjects as ro\n",
    "from rpy2.robjects import numpy2ri\n",
    "import numpy as np\n",
    "\n",
    "# Read all files in a directory\n",
    "mypath = getcwd()+\"/data/tweet_youtube\"\n",
    "onlyfiles = [ join(mypath, f) for f in listdir(mypath) if isfile(join(mypath, f))]\n",
    "tweets_time = {}\n",
    "for f in onlyfiles:\n",
    "    ro.r['load'](f,ro.globalenv)\n",
    "\n",
    "shares = ro.globalenv[str('data')].rx2(\"numShare\")\n",
    "views = ro.globalenv[str('data')].rx2(\"dailyViewcount\")\n",
    "\n",
    "data = [ (shares[i][:120],views[i][:120])  for i in xrange(len(shares))]"
   ]
  },
  {
   "cell_type": "code",
   "execution_count": 2,
   "metadata": {
    "collapsed": false
   },
   "outputs": [],
   "source": [
    "from __future__ import absolute_import\n",
    "from __future__ import print_function\n",
    "from __future__ import division\n",
    "from __future__ import unicode_literals\n",
    "\n",
    "%matplotlib inline\n",
    "import numpy as np\n",
    "import pandas as pd\n",
    "import tensorflow as tf\n",
    "import matplotlib.pyplot as plt\n",
    "from tensorflow.contrib import learn\n",
    "from sklearn.metrics import mean_squared_error\n",
    "from lstm import generate_data, lstm_model, load_csvdata\n",
    "import dateutil.parser\n",
    "import datetime\n",
    "import matplotlib.dates as mdates"
   ]
  },
  {
   "cell_type": "code",
   "execution_count": null,
   "metadata": {
    "collapsed": true
   },
   "outputs": [],
   "source": [
    "LOG_DIR = './ops_logs/lstm_popularity'\n",
    "TIMESTEPS = 6\n",
    "RNN_LAYERS = [{'num_units': 20}]\n",
    "DENSE_LAYERS = [10,TIMESTEPS]\n",
    "TRAINING_STEPS = 4000\n",
    "BATCH_SIZE = 220\n",
    "PRINT_STEPS = TRAINING_STEPS / 10"
   ]
  },
  {
   "cell_type": "code",
   "execution_count": 1,
   "metadata": {
    "collapsed": false,
    "scrolled": false
   },
   "outputs": [
    {
     "ename": "SyntaxError",
     "evalue": "'continue' not properly in loop (<ipython-input-1-7f2afc345448>, line 6)",
     "output_type": "error",
     "traceback": [
      "\u001b[0;36m  File \u001b[0;32m\"<ipython-input-1-7f2afc345448>\"\u001b[0;36m, line \u001b[0;32m6\u001b[0m\n\u001b[0;31m    continue\u001b[0m\n\u001b[0;31mSyntaxError\u001b[0m\u001b[0;31m:\u001b[0m 'continue' not properly in loop\n"
     ]
    }
   ],
   "source": [
    "def loop_func(index):\n",
    "    s_i = data[index][0]\n",
    "    v_i = data[index][1]\n",
    "    \n",
    "    if(len(s_i)<120):\n",
    "        continue\n",
    "\n",
    "    data_i = []\n",
    "    for i in range(120):\n",
    "        data_i.append([s_i[i]])\n",
    "        data_i.append([v_i[i]])\n",
    "    data_vs = pd.DataFrame(data_i, \n",
    "                           columns = ['data'])\n",
    "    X, y = load_csvdata(data_vs, TIMESTEPS, seperate=False)\n",
    "    \n",
    "    regressor = learn.Estimator(model_fn=lstm_model(TIMESTEPS, RNN_LAYERS, DENSE_LAYERS,\\\n",
    "                                               optimizer = \"Adagrad\"))\n",
    "    \n",
    "    validation_monitor = learn.monitors.ValidationMonitor(X['val'], y['val'],\n",
    "                                                         every_n_steps=PRINT_STEPS,\n",
    "                                                         early_stopping_rounds=100)\n",
    "    regressor.fit(X['train'], y['train'],\n",
    "                  monitors=[validation_monitor],\n",
    "                  batch_size=BATCH_SIZE,\n",
    "                  steps=TRAINING_STEPS)\n",
    "\n",
    "    predicted = 0\n",
    "    pred = []\n",
    "    test_x = X['test'][0]\n",
    "    for ii in range(len(X['test'])):\n",
    "        if(ii == 0):\n",
    "            pass\n",
    "        else:\n",
    "            test_x = np.append(test_x, X['test'][ii][-1])\n",
    "            test_x = np.reshape(test_x[2:],(-1,1))\n",
    "        predicted = regressor.predict(np.array([test_x]))\n",
    "        for p in predicted:\n",
    "            pred.append(p)\n",
    "            test_x = np.append(test_x,[p])\n",
    "    pred_pop = sum(pred)+sum(v_i[:90])\n",
    "    with open(\"results3.txt\", \"a\") as myfile:\n",
    "        myfile.write(str((index,pred_pop))+\"\\n\")\n",
    "\n",
    "from joblib import Parallel, delayed\n",
    "pred = Parallel(n_jobs=10)(delayed(loop_func)(index) \\\n",
    "                                  for index in range(1000,10000))"
   ]
  },
  {
   "cell_type": "code",
   "execution_count": 103,
   "metadata": {
    "collapsed": false
   },
   "outputs": [
    {
     "data": {
      "text/plain": [
       "<matplotlib.legend.Legend at 0x7f013038b690>"
      ]
     },
     "execution_count": 103,
     "metadata": {},
     "output_type": "execute_result"
    },
    {
     "data": {
      "image/png": "[encoded data removed]",
      "text/plain": [
       "<matplotlib.figure.Figure at 0x7f013040f990>"
      ]
     },
     "metadata": {},
     "output_type": "display_data"
    }
   ],
   "source": [
    "plot_predicted = plt.plot(pred, label='predicted')\n",
    "plot_test = plt.plot(y['test'], label='test')\n",
    "plt.legend(handles=plot_predicted+plot_test)"
   ]
  },
  {
   "cell_type": "code",
   "execution_count": 109,
   "metadata": {
    "collapsed": false
   },
   "outputs": [
    {
     "name": "stdout",
     "output_type": "stream",
     "text": [
      "  [1] 460 201 125  54  69  47  28  32  26  35  18  28  32  22  24  25  26   7\n",
      " [19]  11  22  16  42  16  21  23  19  11  17  19  17  23   7  27  19   9  21\n",
      " [37]   9  11  12  17   7   4   8  11  13  12  13   8   7  10  20   9   8   6\n",
      " [55]   6   9   9   5   5   6  12   5   3   4   6   7  13   1   4   8  18   9\n",
      " [73]  13   7  11  14   7  20  11   3   7   6   3   4   9   6   4   5   4   2\n",
      " [91]   4   3   8   4   8   5   2   6   2   1   4   2   3   2   7   5   4   5\n",
      "[109]   4   5   6   3   1   5   2   5   3   2   4\n",
      "\n"
     ]
    }
   ],
   "source": [
    "print(s_i)"
   ]
  }
 ],
 "metadata": {
  "anaconda-cloud": {},
  "kernelspec": {
   "display_name": "Python [conda root]",
   "language": "python",
   "name": "conda-root-py"
  },
  "language_info": {
   "codemirror_mode": {
    "name": "ipython",
    "version": 2
   },
   "file_extension": ".py",
   "mimetype": "text/x-python",
   "name": "python",
   "nbconvert_exporter": "python",
   "pygments_lexer": "ipython2",
   "version": "2.7.12"
  }
 },
 "nbformat": 4,
 "nbformat_minor": 0
}
