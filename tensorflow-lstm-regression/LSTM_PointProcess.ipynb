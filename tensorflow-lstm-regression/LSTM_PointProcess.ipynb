{
 "cells": [
  {
   "cell_type": "code",
   "execution_count": 1,
   "metadata": {
    "collapsed": false
   },
   "outputs": [],
   "source": [
    "# Read RData\n",
    "from __future__ import unicode_literals\n",
    "from __future__ import absolute_import\n",
    "from __future__ import print_function\n",
    "from __future__ import division\n",
    "\n",
    "import json\n",
    "from os import listdir, getcwd\n",
    "from os.path import isfile, join\n",
    "import rpy2.robjects as ro\n",
    "from rpy2.robjects import numpy2ri\n",
    "import numpy as np\n",
    "\n",
    "# Read all files in a directory\n",
    "mypath = getcwd()+\"/data/tweet_youtube\"\n",
    "onlyfiles = [ join(mypath, f) for f in listdir(mypath) if isfile(join(mypath, f))]\n",
    "tweets_time = {}\n",
    "for f in onlyfiles:\n",
    "    ro.r['load'](f,ro.globalenv)\n",
    "\n",
    "shares = ro.globalenv[str('data')].rx2(\"numShare\")\n",
    "views = ro.globalenv[str('data')].rx2(\"dailyViewcount\")"
   ]
  },
  {
   "cell_type": "code",
   "execution_count": 2,
   "metadata": {
    "collapsed": false
   },
   "outputs": [],
   "source": [
    "from __future__ import absolute_import\n",
    "from __future__ import print_function\n",
    "from __future__ import division\n",
    "from __future__ import unicode_literals\n",
    "\n",
    "%matplotlib inline\n",
    "import numpy as np\n",
    "import pandas as pd\n",
    "import tensorflow as tf\n",
    "import matplotlib.pyplot as plt\n",
    "from tensorflow.contrib import learn\n",
    "from sklearn.metrics import mean_squared_error\n",
    "from lstm import generate_data, lstm_model, load_csvdata\n",
    "import dateutil.parser\n",
    "import datetime\n",
    "import matplotlib.dates as mdates"
   ]
  },
  {
   "cell_type": "code",
   "execution_count": 3,
   "metadata": {
    "collapsed": true
   },
   "outputs": [],
   "source": [
    "LOG_DIR = './ops_logs/lstm_popularity'\n",
    "TIMESTEPS = 30\n",
    "RNN_LAYERS = [{'num_units': 30},{'num_units': 60},{'num_units': 60}]\n",
    "DENSE_LAYERS = [40,30]\n",
    "TRAINING_STEPS = 10000\n",
    "BATCH_SIZE = 220\n",
    "PRINT_STEPS = TRAINING_STEPS / 10"
   ]
  },
  {
   "cell_type": "code",
   "execution_count": 4,
   "metadata": {
    "collapsed": false
   },
   "outputs": [],
   "source": [
    "s_i = shares[2][:120]\n",
    "v_i = views[2][:120]\n",
    "\n",
    "data = []\n",
    "for i in range(120):\n",
    "    data.append([s_i[i]])\n",
    "    data.append([v_i[i]])\n",
    "data_vs = pd.DataFrame(data, \n",
    "                       columns = ['data'])\n",
    "X, y = load_csvdata(data_vs, TIMESTEPS, seperate=False)"
   ]
  },
  {
   "cell_type": "code",
   "execution_count": null,
   "metadata": {
    "collapsed": false
   },
   "outputs": [
    {
     "name": "stdout",
     "output_type": "stream",
     "text": [
      "INFO:tensorflow:Using default config.\n",
      "INFO:tensorflow:Using config: {'save_summary_steps': 100, '_num_ps_replicas': 0, '_task_type': None, '_environment': 'local', '_is_chief': True, 'save_checkpoints_secs': 600, '_cluster_spec': <tensorflow.python.training.server_lib.ClusterSpec object at 0x7f43af28fc90>, 'tf_config': gpu_options {\n",
      "  per_process_gpu_memory_fraction: 1\n",
      "}\n",
      ", '_task_id': 0, 'tf_random_seed': None, 'keep_checkpoint_every_n_hours': 10000, '_evaluation_master': '', 'save_checkpoints_steps': None, '_master': '', 'keep_checkpoint_max': 5}\n"
     ]
    }
   ],
   "source": [
    "regressor = learn.Estimator(model_fn=lstm_model(TIMESTEPS, RNN_LAYERS, DENSE_LAYERS,\\\n",
    "                                               optimizer = \"Adagrad\"),\\\n",
    "                            model_dir=LOG_DIR)"
   ]
  },
  {
   "cell_type": "code",
   "execution_count": null,
   "metadata": {
    "collapsed": false
   },
   "outputs": [
    {
     "name": "stdout",
     "output_type": "stream",
     "text": [
      "WARNING:tensorflow:From /home/u5963436/anaconda2/lib/python2.7/site-packages/tensorflow/contrib/learn/python/learn/monitors.py:322 in __init__.: __init__ (from tensorflow.contrib.learn.python.learn.monitors) is deprecated and will be removed after 2016-12-05.\n",
      "Instructions for updating:\n",
      "Monitors are deprecated. Please use tf.train.SessionRunHook.\n",
      "WARNING:tensorflow:From <ipython-input-6-54f685cb429e>:7 in <module>.: calling fit (from tensorflow.contrib.learn.python.learn.estimators.estimator) with x is deprecated and will be removed after 2016-12-01.\n",
      "Instructions for updating:\n",
      "Estimator is decoupled from Scikit Learn interface by moving into\n",
      "separate class SKCompat. Arguments x, y and batch_size are only\n",
      "available in the SKCompat class, Estimator will only accept input_fn.\n",
      "Example conversion:\n",
      "  est = Estimator(...) -> est = SKCompat(Estimator(...))\n",
      "WARNING:tensorflow:From <ipython-input-6-54f685cb429e>:7 in <module>.: calling fit (from tensorflow.contrib.learn.python.learn.estimators.estimator) with y is deprecated and will be removed after 2016-12-01.\n",
      "Instructions for updating:\n",
      "Estimator is decoupled from Scikit Learn interface by moving into\n",
      "separate class SKCompat. Arguments x, y and batch_size are only\n",
      "available in the SKCompat class, Estimator will only accept input_fn.\n",
      "Example conversion:\n",
      "  est = Estimator(...) -> est = SKCompat(Estimator(...))\n",
      "WARNING:tensorflow:From <ipython-input-6-54f685cb429e>:7 in <module>.: calling fit (from tensorflow.contrib.learn.python.learn.estimators.estimator) with batch_size is deprecated and will be removed after 2016-12-01.\n",
      "Instructions for updating:\n",
      "Estimator is decoupled from Scikit Learn interface by moving into\n",
      "separate class SKCompat. Arguments x, y and batch_size are only\n",
      "available in the SKCompat class, Estimator will only accept input_fn.\n",
      "Example conversion:\n",
      "  est = Estimator(...) -> est = SKCompat(Estimator(...))\n",
      "WARNING:tensorflow:From /home/u5963436/anaconda2/lib/python2.7/site-packages/tensorflow/contrib/learn/python/learn/models.py:107 in linear_regression.: mean_squared_error_regressor (from tensorflow.contrib.learn.python.learn.ops.losses_ops) is deprecated and will be removed after 2016-12-01.\n",
      "Instructions for updating:\n",
      "Use `tf.contrib.losses.mean_squared_error` and explicit logits computation.\n",
      "INFO:tensorflow:Create CheckpointSaverHook.\n",
      "INFO:tensorflow:loss = 5.31959e+08, step = 1\n",
      "INFO:tensorflow:Saving checkpoints for 1 into ./ops_logs/lstm_popularity/model.ckpt.\n",
      "WARNING:tensorflow:*******************************************************\n",
      "WARNING:tensorflow:TensorFlow's V1 checkpoint format has been deprecated.\n",
      "WARNING:tensorflow:Consider switching to the more efficient V2 format:\n",
      "WARNING:tensorflow:   `tf.train.Saver(write_version=tf.train.SaverDef.V2)`\n",
      "WARNING:tensorflow:now on by default.\n",
      "WARNING:tensorflow:*******************************************************\n",
      "INFO:tensorflow:loss = 1.10409e+07, step = 101\n",
      "INFO:tensorflow:global_step/sec: 3.78467\n",
      "INFO:tensorflow:loss = 4.211e+06, step = 201\n",
      "INFO:tensorflow:global_step/sec: 7.92161\n",
      "INFO:tensorflow:loss = 4.89222e+06, step = 301\n",
      "INFO:tensorflow:global_step/sec: 9.37885\n",
      "INFO:tensorflow:loss = 2.38007e+06, step = 401\n",
      "INFO:tensorflow:global_step/sec: 8.34317\n",
      "INFO:tensorflow:loss = 1.53606e+06, step = 501\n",
      "INFO:tensorflow:global_step/sec: 8.54018\n",
      "INFO:tensorflow:loss = 1.70824e+06, step = 601\n",
      "INFO:tensorflow:global_step/sec: 8.76724\n",
      "INFO:tensorflow:loss = 1.39815e+06, step = 701\n",
      "INFO:tensorflow:global_step/sec: 8.54582\n",
      "INFO:tensorflow:loss = 1.22085e+06, step = 801\n",
      "INFO:tensorflow:global_step/sec: 9.50541\n",
      "INFO:tensorflow:loss = 1.31334e+06, step = 901\n",
      "INFO:tensorflow:global_step/sec: 9.21546\n",
      "WARNING:tensorflow:From /home/u5963436/anaconda2/lib/python2.7/site-packages/tensorflow/contrib/learn/python/learn/monitors.py:712 in every_n_step_end.: calling evaluate (from tensorflow.contrib.learn.python.learn.estimators.estimator) with x is deprecated and will be removed after 2016-12-01.\n",
      "Instructions for updating:\n",
      "Estimator is decoupled from Scikit Learn interface by moving into\n",
      "separate class SKCompat. Arguments x, y and batch_size are only\n",
      "available in the SKCompat class, Estimator will only accept input_fn.\n",
      "Example conversion:\n",
      "  est = Estimator(...) -> est = SKCompat(Estimator(...))\n",
      "WARNING:tensorflow:From /home/u5963436/anaconda2/lib/python2.7/site-packages/tensorflow/contrib/learn/python/learn/monitors.py:712 in every_n_step_end.: calling evaluate (from tensorflow.contrib.learn.python.learn.estimators.estimator) with y is deprecated and will be removed after 2016-12-01.\n",
      "Instructions for updating:\n",
      "Estimator is decoupled from Scikit Learn interface by moving into\n",
      "separate class SKCompat. Arguments x, y and batch_size are only\n",
      "available in the SKCompat class, Estimator will only accept input_fn.\n",
      "Example conversion:\n",
      "  est = Estimator(...) -> est = SKCompat(Estimator(...))\n",
      "WARNING:tensorflow:From /home/u5963436/anaconda2/lib/python2.7/site-packages/tensorflow/contrib/learn/python/learn/monitors.py:712 in every_n_step_end.: calling evaluate (from tensorflow.contrib.learn.python.learn.estimators.estimator) with batch_size is deprecated and will be removed after 2016-12-01.\n",
      "Instructions for updating:\n",
      "Estimator is decoupled from Scikit Learn interface by moving into\n",
      "separate class SKCompat. Arguments x, y and batch_size are only\n",
      "available in the SKCompat class, Estimator will only accept input_fn.\n",
      "Example conversion:\n",
      "  est = Estimator(...) -> est = SKCompat(Estimator(...))\n"
     ]
    }
   ],
   "source": [
    "validation_monitor = learn.monitors.ValidationMonitor(X['val'], y['val'],\n",
    "                                                     every_n_steps=PRINT_STEPS,\n",
    "                                                     early_stopping_rounds=100)\n",
    "regressor.fit(X['train'], y['train'],\n",
    "              monitors=[validation_monitor],\n",
    "              batch_size=BATCH_SIZE,\n",
    "              steps=TRAINING_STEPS)\n"
   ]
  },
  {
   "cell_type": "code",
   "execution_count": null,
   "metadata": {
    "collapsed": false,
    "scrolled": true
   },
   "outputs": [],
   "source": [
    "#not used in this example but used for seeing deviations\n",
    "#rmse = np.sqrt(((predicted - y['test']) ** 2).mean(axis=0))\n",
    "predicted = regressor.predict(X['test'])\n",
    "pred = []\n",
    "for i in predicted:\n",
    "    pred.append(i)\n",
    "#score = mean_squared_error(p, y['test'])\n",
    "#print (\"MSE: %f\" % rmse)"
   ]
  },
  {
   "cell_type": "code",
   "execution_count": null,
   "metadata": {
    "collapsed": false
   },
   "outputs": [],
   "source": [
    "plot_predicted = plt.plot(pred, label='predicted')\n",
    "plot_test = plt.plot(y['test'], label='test')\n",
    "plt.legend(handles=plot_predicted+plot_test)"
   ]
  },
  {
   "cell_type": "code",
   "execution_count": null,
   "metadata": {
    "collapsed": true
   },
   "outputs": [],
   "source": []
  },
  {
   "cell_type": "code",
   "execution_count": null,
   "metadata": {
    "collapsed": true
   },
   "outputs": [],
   "source": []
  }
 ],
 "metadata": {
  "anaconda-cloud": {},
  "kernelspec": {
   "display_name": "Python [conda root]",
   "language": "python",
   "name": "conda-root-py"
  },
  "language_info": {
   "codemirror_mode": {
    "name": "ipython",
    "version": 2
   },
   "file_extension": ".py",
   "mimetype": "text/x-python",
   "name": "python",
   "nbconvert_exporter": "python",
   "pygments_lexer": "ipython2",
   "version": "2.7.12"
  }
 },
 "nbformat": 4,
 "nbformat_minor": 0
}
